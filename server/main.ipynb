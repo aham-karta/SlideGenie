{
 "cells": [
  {
   "cell_type": "code",
   "execution_count": 60,
   "metadata": {},
   "outputs": [
    {
     "name": "stderr",
     "output_type": "stream",
     "text": [
      "huggingface/tokenizers: The current process just got forked, after parallelism has already been used. Disabling parallelism to avoid deadlocks...\n",
      "To disable this warning, you can either:\n",
      "\t- Avoid using `tokenizers` before the fork if possible\n",
      "\t- Explicitly set the environment variable TOKENIZERS_PARALLELISM=(true | false)\n"
     ]
    },
    {
     "name": "stdout",
     "output_type": "stream",
     "text": [
      "Requirement already satisfied: groq in ./.venv/lib/python3.11/site-packages (0.5.0)\n",
      "Requirement already satisfied: anyio<5,>=3.5.0 in ./.venv/lib/python3.11/site-packages (from groq) (4.3.0)\n",
      "Requirement already satisfied: distro<2,>=1.7.0 in ./.venv/lib/python3.11/site-packages (from groq) (1.9.0)\n",
      "Requirement already satisfied: httpx<1,>=0.23.0 in ./.venv/lib/python3.11/site-packages (from groq) (0.27.0)\n",
      "Requirement already satisfied: pydantic<3,>=1.9.0 in ./.venv/lib/python3.11/site-packages (from groq) (2.7.1)\n",
      "Requirement already satisfied: sniffio in ./.venv/lib/python3.11/site-packages (from groq) (1.3.1)\n",
      "Requirement already satisfied: typing-extensions<5,>=4.7 in ./.venv/lib/python3.11/site-packages (from groq) (4.11.0)\n",
      "Requirement already satisfied: idna>=2.8 in ./.venv/lib/python3.11/site-packages (from anyio<5,>=3.5.0->groq) (3.7)\n",
      "Requirement already satisfied: certifi in ./.venv/lib/python3.11/site-packages (from httpx<1,>=0.23.0->groq) (2024.2.2)\n",
      "Requirement already satisfied: httpcore==1.* in ./.venv/lib/python3.11/site-packages (from httpx<1,>=0.23.0->groq) (1.0.5)\n",
      "Requirement already satisfied: h11<0.15,>=0.13 in ./.venv/lib/python3.11/site-packages (from httpcore==1.*->httpx<1,>=0.23.0->groq) (0.14.0)\n",
      "Requirement already satisfied: annotated-types>=0.4.0 in ./.venv/lib/python3.11/site-packages (from pydantic<3,>=1.9.0->groq) (0.6.0)\n",
      "Requirement already satisfied: pydantic-core==2.18.2 in ./.venv/lib/python3.11/site-packages (from pydantic<3,>=1.9.0->groq) (2.18.2)\n",
      "Note: you may need to restart the kernel to use updated packages.\n"
     ]
    },
    {
     "name": "stderr",
     "output_type": "stream",
     "text": [
      "huggingface/tokenizers: The current process just got forked, after parallelism has already been used. Disabling parallelism to avoid deadlocks...\n",
      "To disable this warning, you can either:\n",
      "\t- Avoid using `tokenizers` before the fork if possible\n",
      "\t- Explicitly set the environment variable TOKENIZERS_PARALLELISM=(true | false)\n"
     ]
    },
    {
     "name": "stdout",
     "output_type": "stream",
     "text": [
      "Requirement already satisfied: python-pptx in ./.venv/lib/python3.11/site-packages (0.6.23)\n",
      "Requirement already satisfied: lxml>=3.1.0 in ./.venv/lib/python3.11/site-packages (from python-pptx) (5.2.1)\n",
      "Requirement already satisfied: Pillow>=3.3.2 in ./.venv/lib/python3.11/site-packages (from python-pptx) (10.3.0)\n",
      "Requirement already satisfied: XlsxWriter>=0.5.7 in ./.venv/lib/python3.11/site-packages (from python-pptx) (3.2.0)\n",
      "Note: you may need to restart the kernel to use updated packages.\n"
     ]
    }
   ],
   "source": [
    "%pip install groq\n",
    "%pip install python-pptx"
   ]
  },
  {
   "cell_type": "code",
   "execution_count": 61,
   "metadata": {},
   "outputs": [],
   "source": [
    "query=\"effect of demonitatization in india\""
   ]
  },
  {
   "cell_type": "code",
   "execution_count": 62,
   "metadata": {},
   "outputs": [
    {
     "name": "stdout",
     "output_type": "stream",
     "text": [
      "Impact of Demonetization in India\n"
     ]
    }
   ],
   "source": [
    "from groq import Groq\n",
    "\n",
    "client = Groq(api_key=\"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\")\n",
    "completion = client.chat.completions.create(\n",
    "    model=\"llama3-8b-8192\",\n",
    "    messages=[\n",
    "        {\n",
    "            \"role\": \"system\",\n",
    "            \"content\": \"generate / rectify grammar - give a one line response - neither too long nor too short (maximum 5 words) - just the title\"\n",
    "        },\n",
    "        {\n",
    "            \"role\": \"user\",\n",
    "            \"content\": f\"query[{query}]\"\n",
    "        }\n",
    "    ],\n",
    "    temperature=1,\n",
    "    max_tokens=8192,\n",
    "    top_p=1,\n",
    "    stream=True,\n",
    "    stop=None,\n",
    ")\n",
    "query=\"\"\n",
    "for chunk in completion:\n",
    "    query+=chunk.choices[0].delta.content or \"\"\n",
    "print(query)"
   ]
  },
  {
   "cell_type": "code",
   "execution_count": 63,
   "metadata": {},
   "outputs": [],
   "source": [
    "slides=5"
   ]
  },
  {
   "cell_type": "code",
   "execution_count": 64,
   "metadata": {},
   "outputs": [],
   "source": [
    "completion = client.chat.completions.create(\n",
    "    model=\"llama3-8b-8192\",\n",
    "    messages=[\n",
    "        {\n",
    "            \"role\": \"system\",\n",
    "            \"content\": f\"generate {slides} ppt slide titles in order (keep them sweet and short) based on the query[] - split the titles with delimiter '%%%' and return all titles within a codeblock ``` - do not mention slide count - do not include asterisks * - dont generate question tags - max words - (6 to 8) - dont include double quotes ,just plain text\"\n",
    "        },\n",
    "        {\n",
    "            \"role\": \"user\",\n",
    "            \"content\": f\"query[{query}]\"\n",
    "        }\n",
    "    ],\n",
    "    temperature=1,\n",
    "    max_tokens=8192,\n",
    "    top_p=1,\n",
    "    stream=True,\n",
    "    stop=None,\n",
    ")\n",
    "slide_points_full=\"\"\n",
    "for chunk in completion:\n",
    "    slide_points_full+=chunk.choices[0].delta.content or \"\"\n"
   ]
  },
  {
   "cell_type": "code",
   "execution_count": 65,
   "metadata": {},
   "outputs": [
    {
     "name": "stdout",
     "output_type": "stream",
     "text": [
      "```\n",
      "Impact of Demonetization in India %%%\n",
      "RBI's Role in Demonetization %%%\n",
      "Economic Impact of Note Ban %%%\n",
      "Public Perception of Demonetization %%%\n",
      "Long Term Effects of Demonetization\n",
      "```\n"
     ]
    }
   ],
   "source": [
    "print(slide_points_full)"
   ]
  },
  {
   "cell_type": "code",
   "execution_count": 66,
   "metadata": {},
   "outputs": [],
   "source": [
    "slide_points=slide_points_full[slide_points_full.find('```')+4:slide_points_full.rfind('```')-1].replace('\\n',\"\").split(\"%%%\")"
   ]
  },
  {
   "cell_type": "code",
   "execution_count": 67,
   "metadata": {},
   "outputs": [
    {
     "name": "stdout",
     "output_type": "stream",
     "text": [
      "['Impact of Demonetization in India ', \"RBI's Role in Demonetization \", 'Economic Impact of Note Ban ', 'Public Perception of Demonetization ', 'Long Term Effects of Demonetization']\n"
     ]
    }
   ],
   "source": [
    "print(slide_points)"
   ]
  },
  {
   "cell_type": "code",
   "execution_count": 68,
   "metadata": {},
   "outputs": [],
   "source": [
    "slide_content=[]"
   ]
  },
  {
   "cell_type": "code",
   "execution_count": 69,
   "metadata": {},
   "outputs": [],
   "source": [
    "for point in slide_points:\n",
    "    if point.strip()!=\"\":\n",
    "        completion = client.chat.completions.create(\n",
    "            model=\"llama3-8b-8192\",\n",
    "            messages=[\n",
    "                {\n",
    "                    \"role\": \"system\",\n",
    "                    \"content\": f\"generate a paragraph (50-60 words STRICTLY) for slide content ONLY (neither too big nor too small) for title[] - return the body only without any unwanted text **do not use linebreak** - do not use asterisks* - use justify text align - do not mention anything else, give only the slide content paragraph as a response - return only information related to the point[] not statements like 'here is..','some of ...' etc - do not use linebreak generate entire response in one line - dont use asterisks * \"\n",
    "                },\n",
    "                {\n",
    "                    \"role\": \"user\",\n",
    "                    \"content\": f\"[{point}]\"\n",
    "                }\n",
    "            ],\n",
    "            temperature=1,\n",
    "            max_tokens=8192,\n",
    "            top_p=1,\n",
    "            stream=True,\n",
    "            stop=None,\n",
    "        )\n",
    "        temp_slide_content=\"\"\n",
    "        for chunk in completion:\n",
    "            temp_slide_content+=chunk.choices[0].delta.content or \"\"\n",
    "        slide_content.append(temp_slide_content)"
   ]
  },
  {
   "cell_type": "code",
   "execution_count": 70,
   "metadata": {},
   "outputs": [
    {
     "name": "stdout",
     "output_type": "stream",
     "text": [
      "['The demonetization of high-denomination currency notes in November 2016 led to a severe cash crunch resulting in long queues and economic disruption. Many businesses were forced to shut down, while others witnessed a significant decline in sales. The move aimed to curb black money and terrorism financing, but its effectiveness in achieving these goals remains uncertain.', \"The Reserve Bank of India played a pivotal role in executing the demonetization drive, withdrawing legal tender status from high-denomination banknotes of Rs 500 and Rs 1000, seizing 86% of the country's currency stock, and distributing the new Rs 2000 note.\", 'The economic impact of demonetization was felt across various sectors as the sudden withdrawal of high denomination notes resulted in a severe cash crunch affecting small businesses and daily transactions. GDP growth slowed down, and the economic output contracted in the quarter following the note ban. Additionally, inflation increased as supply chain disruptions and reduced consumer spending led to higher price levels.', 'The demonetization drive received mixed reactions from the public with some perceiving it as a necessary step towards curbing black money while others viewed it as a chaotic and poorly executed move causing widespread inconvenience.', 'The long term effects of demonetization have far-reaching consequences, including the stifling of entrepreneurship, increased informal economy, and suppressed economic growth, leading to a lopsided development, where the formal economy and financial sector remain underdeveloped, while the informal sector grows, resulting in a perpetuation of poverty and inequality.']\n"
     ]
    }
   ],
   "source": [
    "print(slide_content)"
   ]
  },
  {
   "cell_type": "code",
   "execution_count": 71,
   "metadata": {},
   "outputs": [],
   "source": [
    "from pptx import Presentation\n",
    "from pptx.util import Inches\n",
    "from PIL import Image\n",
    "from pptx.dml.color import RGBColor\n",
    "\n",
    "slide_width = Inches(10)  \n",
    "slide_height = Inches(5.625) \n",
    "\n",
    "prs = Presentation()\n",
    "\n",
    "prs.slide_width = slide_width\n",
    "prs.slide_height = slide_height\n",
    "\n",
    "slide = prs.slides.add_slide(prs.slide_layouts[5])  \n",
    "\n",
    "img_path = 'styles/template1/1.png'\n",
    "img = Image.open(img_path)\n",
    "img_width, img_height = img.size\n",
    "\n",
    "max_width = slide_width  \n",
    "max_height = slide_height \n",
    "scale_width = max_width / img_width\n",
    "scale_height = max_height / img_height\n",
    "scale = min(scale_width, scale_height)\n",
    "\n",
    "left = (slide_width - img_width * scale) / 2\n",
    "top = (slide_height - img_height * scale) / 2\n",
    "\n",
    "pic = slide.shapes.add_picture(img_path, left, top, width=img_width * scale, height=img_height * scale)\n",
    "title_width = Inches(8) \n",
    "title_left = (slide_width - title_width) / 2\n",
    "title = slide.shapes.add_textbox(title_left, Inches(2), title_width, Inches(1))\n",
    "title.text = query\n",
    "title.text_frame.word_wrap = True\n",
    "title.text_frame.paragraphs[0].font.color.rgb = RGBColor(255, 255, 255) \n",
    "title.text_frame.paragraphs[0].font.bold = True  \n",
    "title.text_frame.paragraphs[0].font.size = Inches(0.4)  \n",
    "title.text_frame.paragraphs[0].font.name = 'Courier New' \n",
    "title.text_frame.paragraphs[0].alignment = 2"
   ]
  },
  {
   "cell_type": "code",
   "execution_count": 72,
   "metadata": {},
   "outputs": [],
   "source": [
    "img_path2 = 'styles/template1/2.png'\n",
    "for count in range(len(slide_points)):\n",
    "    slide = prs.slides.add_slide(prs.slide_layouts[5])  \n",
    "\n",
    "    left = (slide_width - img_width * scale) / 2\n",
    "    top = (slide_height - img_height * scale) / 2\n",
    "\n",
    "    pic = slide.shapes.add_picture(img_path2, left, top, width=img_width * scale, height=img_height * scale)\n",
    "\n",
    "    title = slide.shapes.add_textbox(left, Inches(0.2), img_width * scale, Inches(1))\n",
    "    title.text = slide_points[count]\n",
    "    title.text_frame.word_wrap = True\n",
    "    title.text_frame.paragraphs[0].font.color.rgb = RGBColor(255, 255, 255) \n",
    "    title.text_frame.paragraphs[0].font.bold = True\n",
    "    title.text_frame.paragraphs[0].font.size = Inches(0.3) \n",
    "    title.text_frame.paragraphs[0].font.name = 'Courier New' \n",
    "    title.text_frame.paragraphs[0].alignment = 2\n",
    "    title = slide.shapes.add_textbox(left+Inches(0.25), Inches(1.5), Inches(4), Inches(1))\n",
    "    title.text = slide_content[count]\n",
    "    title.text_frame.word_wrap = True  \n",
    "    title.text_frame.paragraphs[0].font.color.rgb = RGBColor(255, 255, 255) \n",
    "    title.text_frame.paragraphs[0].font.bold = False\n",
    "    title.text_frame.paragraphs[0].font.size = Inches(0.15) \n",
    "    title.text_frame.paragraphs[0].font.name = 'Courier New' \n",
    "    title.text_frame.paragraphs[0].alignment = 2\n",
    "\n",
    "prs.save('test.pptx')"
   ]
  },
  {
   "cell_type": "code",
   "execution_count": 73,
   "metadata": {},
   "outputs": [
    {
     "name": "stderr",
     "output_type": "stream",
     "text": [
      "huggingface/tokenizers: The current process just got forked, after parallelism has already been used. Disabling parallelism to avoid deadlocks...\n",
      "To disable this warning, you can either:\n",
      "\t- Avoid using `tokenizers` before the fork if possible\n",
      "\t- Explicitly set the environment variable TOKENIZERS_PARALLELISM=(true | false)\n"
     ]
    },
    {
     "name": "stdout",
     "output_type": "stream",
     "text": [
      "Note: you may need to restart the kernel to use updated packages.\n"
     ]
    },
    {
     "name": "stderr",
     "output_type": "stream",
     "text": [
      "huggingface/tokenizers: The current process just got forked, after parallelism has already been used. Disabling parallelism to avoid deadlocks...\n",
      "To disable this warning, you can either:\n",
      "\t- Avoid using `tokenizers` before the fork if possible\n",
      "\t- Explicitly set the environment variable TOKENIZERS_PARALLELISM=(true | false)\n"
     ]
    },
    {
     "name": "stdout",
     "output_type": "stream",
     "text": [
      "Requirement already satisfied: pypdf in ./.venv/lib/python3.11/site-packages (4.2.0)\n",
      "Note: you may need to restart the kernel to use updated packages.\n"
     ]
    },
    {
     "name": "stderr",
     "output_type": "stream",
     "text": [
      "huggingface/tokenizers: The current process just got forked, after parallelism has already been used. Disabling parallelism to avoid deadlocks...\n",
      "To disable this warning, you can either:\n",
      "\t- Avoid using `tokenizers` before the fork if possible\n",
      "\t- Explicitly set the environment variable TOKENIZERS_PARALLELISM=(true | false)\n"
     ]
    },
    {
     "name": "stdout",
     "output_type": "stream",
     "text": [
      "Requirement already satisfied: sentence_transformers in ./.venv/lib/python3.11/site-packages (2.7.0)\n",
      "Requirement already satisfied: transformers<5.0.0,>=4.34.0 in ./.venv/lib/python3.11/site-packages (from sentence_transformers) (4.40.2)\n",
      "Requirement already satisfied: tqdm in ./.venv/lib/python3.11/site-packages (from sentence_transformers) (4.66.4)\n",
      "Requirement already satisfied: torch>=1.11.0 in ./.venv/lib/python3.11/site-packages (from sentence_transformers) (2.3.0)\n",
      "Requirement already satisfied: numpy in ./.venv/lib/python3.11/site-packages (from sentence_transformers) (1.26.4)\n",
      "Requirement already satisfied: scikit-learn in ./.venv/lib/python3.11/site-packages (from sentence_transformers) (1.4.2)\n",
      "Requirement already satisfied: scipy in ./.venv/lib/python3.11/site-packages (from sentence_transformers) (1.13.0)\n",
      "Requirement already satisfied: huggingface-hub>=0.15.1 in ./.venv/lib/python3.11/site-packages (from sentence_transformers) (0.23.0)\n",
      "Requirement already satisfied: Pillow in ./.venv/lib/python3.11/site-packages (from sentence_transformers) (10.3.0)\n",
      "Requirement already satisfied: filelock in ./.venv/lib/python3.11/site-packages (from huggingface-hub>=0.15.1->sentence_transformers) (3.14.0)\n",
      "Requirement already satisfied: fsspec>=2023.5.0 in ./.venv/lib/python3.11/site-packages (from huggingface-hub>=0.15.1->sentence_transformers) (2024.3.1)\n",
      "Requirement already satisfied: packaging>=20.9 in ./.venv/lib/python3.11/site-packages (from huggingface-hub>=0.15.1->sentence_transformers) (23.2)\n",
      "Requirement already satisfied: pyyaml>=5.1 in ./.venv/lib/python3.11/site-packages (from huggingface-hub>=0.15.1->sentence_transformers) (6.0.1)\n",
      "Requirement already satisfied: requests in ./.venv/lib/python3.11/site-packages (from huggingface-hub>=0.15.1->sentence_transformers) (2.31.0)\n",
      "Requirement already satisfied: typing-extensions>=3.7.4.3 in ./.venv/lib/python3.11/site-packages (from huggingface-hub>=0.15.1->sentence_transformers) (4.11.0)\n",
      "Requirement already satisfied: sympy in ./.venv/lib/python3.11/site-packages (from torch>=1.11.0->sentence_transformers) (1.12)\n",
      "Requirement already satisfied: networkx in ./.venv/lib/python3.11/site-packages (from torch>=1.11.0->sentence_transformers) (3.3)\n",
      "Requirement already satisfied: jinja2 in ./.venv/lib/python3.11/site-packages (from torch>=1.11.0->sentence_transformers) (3.1.4)\n",
      "Requirement already satisfied: nvidia-cuda-nvrtc-cu12==12.1.105 in ./.venv/lib/python3.11/site-packages (from torch>=1.11.0->sentence_transformers) (12.1.105)\n",
      "Requirement already satisfied: nvidia-cuda-runtime-cu12==12.1.105 in ./.venv/lib/python3.11/site-packages (from torch>=1.11.0->sentence_transformers) (12.1.105)\n",
      "Requirement already satisfied: nvidia-cuda-cupti-cu12==12.1.105 in ./.venv/lib/python3.11/site-packages (from torch>=1.11.0->sentence_transformers) (12.1.105)\n",
      "Requirement already satisfied: nvidia-cudnn-cu12==8.9.2.26 in ./.venv/lib/python3.11/site-packages (from torch>=1.11.0->sentence_transformers) (8.9.2.26)\n",
      "Requirement already satisfied: nvidia-cublas-cu12==12.1.3.1 in ./.venv/lib/python3.11/site-packages (from torch>=1.11.0->sentence_transformers) (12.1.3.1)\n",
      "Requirement already satisfied: nvidia-cufft-cu12==11.0.2.54 in ./.venv/lib/python3.11/site-packages (from torch>=1.11.0->sentence_transformers) (11.0.2.54)\n",
      "Requirement already satisfied: nvidia-curand-cu12==10.3.2.106 in ./.venv/lib/python3.11/site-packages (from torch>=1.11.0->sentence_transformers) (10.3.2.106)\n",
      "Requirement already satisfied: nvidia-cusolver-cu12==11.4.5.107 in ./.venv/lib/python3.11/site-packages (from torch>=1.11.0->sentence_transformers) (11.4.5.107)\n",
      "Requirement already satisfied: nvidia-cusparse-cu12==12.1.0.106 in ./.venv/lib/python3.11/site-packages (from torch>=1.11.0->sentence_transformers) (12.1.0.106)\n",
      "Requirement already satisfied: nvidia-nccl-cu12==2.20.5 in ./.venv/lib/python3.11/site-packages (from torch>=1.11.0->sentence_transformers) (2.20.5)\n",
      "Requirement already satisfied: nvidia-nvtx-cu12==12.1.105 in ./.venv/lib/python3.11/site-packages (from torch>=1.11.0->sentence_transformers) (12.1.105)\n",
      "Requirement already satisfied: triton==2.3.0 in ./.venv/lib/python3.11/site-packages (from torch>=1.11.0->sentence_transformers) (2.3.0)\n",
      "Requirement already satisfied: nvidia-nvjitlink-cu12 in ./.venv/lib/python3.11/site-packages (from nvidia-cusolver-cu12==11.4.5.107->torch>=1.11.0->sentence_transformers) (12.4.127)\n",
      "Requirement already satisfied: regex!=2019.12.17 in ./.venv/lib/python3.11/site-packages (from transformers<5.0.0,>=4.34.0->sentence_transformers) (2024.5.10)\n",
      "Requirement already satisfied: tokenizers<0.20,>=0.19 in ./.venv/lib/python3.11/site-packages (from transformers<5.0.0,>=4.34.0->sentence_transformers) (0.19.1)\n",
      "Requirement already satisfied: safetensors>=0.4.1 in ./.venv/lib/python3.11/site-packages (from transformers<5.0.0,>=4.34.0->sentence_transformers) (0.4.3)\n",
      "Requirement already satisfied: joblib>=1.2.0 in ./.venv/lib/python3.11/site-packages (from scikit-learn->sentence_transformers) (1.4.2)\n",
      "Requirement already satisfied: threadpoolctl>=2.0.0 in ./.venv/lib/python3.11/site-packages (from scikit-learn->sentence_transformers) (3.5.0)\n",
      "Requirement already satisfied: MarkupSafe>=2.0 in ./.venv/lib/python3.11/site-packages (from jinja2->torch>=1.11.0->sentence_transformers) (2.1.5)\n",
      "Requirement already satisfied: charset-normalizer<4,>=2 in ./.venv/lib/python3.11/site-packages (from requests->huggingface-hub>=0.15.1->sentence_transformers) (3.3.2)\n",
      "Requirement already satisfied: idna<4,>=2.5 in ./.venv/lib/python3.11/site-packages (from requests->huggingface-hub>=0.15.1->sentence_transformers) (3.7)\n",
      "Requirement already satisfied: urllib3<3,>=1.21.1 in ./.venv/lib/python3.11/site-packages (from requests->huggingface-hub>=0.15.1->sentence_transformers) (2.2.1)\n",
      "Requirement already satisfied: certifi>=2017.4.17 in ./.venv/lib/python3.11/site-packages (from requests->huggingface-hub>=0.15.1->sentence_transformers) (2024.2.2)\n",
      "Requirement already satisfied: mpmath>=0.19 in ./.venv/lib/python3.11/site-packages (from sympy->torch>=1.11.0->sentence_transformers) (1.3.0)\n",
      "Note: you may need to restart the kernel to use updated packages.\n"
     ]
    }
   ],
   "source": [
    "%pip install -qU langchain-text-splitters\n",
    "%pip install pypdf\n",
    "%pip install sentence_transformers"
   ]
  },
  {
   "cell_type": "code",
   "execution_count": 74,
   "metadata": {},
   "outputs": [],
   "source": [
    "from langchain_text_splitters import RecursiveCharacterTextSplitter\n",
    "text_splitter = RecursiveCharacterTextSplitter(\n",
    "    chunk_size=100,\n",
    "    chunk_overlap=20,\n",
    "    separators=[\"\\n\\n\", \"\\n\", \" \", \"\"],\n",
    ")\n",
    "from pypdf import PdfReader\n",
    "\n",
    "reader = PdfReader(\"test.pdf\")\n",
    "pages=len(reader.pages)\n",
    "document_data=\"\"\n",
    "for i in range(pages):\n",
    "    document_data+=\" \"+reader.pages[i].extract_text()\n",
    "texts = text_splitter.create_documents([document_data])\n",
    "texts2=[]\n",
    "for i in texts:\n",
    "    texts2.append(i.page_content)\n"
   ]
  },
  {
   "cell_type": "code",
   "execution_count": 75,
   "metadata": {},
   "outputs": [
    {
     "name": "stdout",
     "output_type": "stream",
     "text": [
      "['Essential  Drugs  List - Ayurveda  \\n \\n(A) Asava Arista  \\n \\nSr \\nNo Name of \\nMedicine  Refe\\nrenc\\ne', 'renc\\ne \\ntext Dispensi\\nng Pack \\nSize Main Indications  Dose  Precaution/ \\nContrain dicati', 'Contrain dicati\\non Preferred \\nuse (OPD/ \\nIPD)  \\n1.  Abhayarishta  AFI 200 ml  Arsha, Agnimandya,', 'Udararoga, Vibandha  12   -   24   ml  NS Both', '2.  Amritarishta  AFI 200 ml  Sarva Jvara , Jirna Jvara  12   -   24   ml  NS Both', '3.  Aragvadharishta  AH 200ml  Kandu, Tvak  Vikar a, \\nVibandha  12   -   24   ml  NS Both', '4.  Aravindasava  AFI 200 ml  Balaroga, Balakshaya,', 'Agnimandya, Aruchi  12   -   24   ml  NS Both  \\n5.  Arjunarishta/', '5.  Arjunarishta/ \\nParthadyarishta  AFI 200 ml  Hridroga, Hriddrav a, Hrid -\\ndaurbalya, Moha,', 'daurbalya, Moha, \\nMurc hha 12   -   24   ml  NS Both', '6.  Ashokarishta  AFI 200 ml  Asrigdara, Shveta \\nPradara,  Yoniroga  12   -   24   ml  NS Both', '7.  Ashvagandharisht\\na AFI 200 ml  Murc hha, Apasmara,', 'Shosha, Unmada, Karshya  12   -   24   ml  NS Both', '8.  Balarishta  AFI 200 ml  Daurbalya, Vataroga,  \\nAgnimandya, Karshya  12   -   24   ml  NS Both', '9.  Chandanasava  AFI 200 ml  Shukrameha, \\nMutrakriccha, Hridroga  12   -   24   ml  NS Both', '10.  Dashamularishta  AFI 200 ml  Vata Vyadhi, Daurbalya,', 'Prasavottar a roga  12   -   24   ml  NS Both', '11.  Drakshasava  AFI 200 ml  Aruchi, Hridroga, Pandu', 'Duarbalya, Kshaya  12   -   24   ml  NS Both  \\n12.  Draksharishta  AFI 200 ml  Agnimandya, Kasa,', 'Shvasa , Urah kshata, \\nKshaya, Malavarodha, \\nDaurbalya  12   -   24   ml  NS Both', '13.  Jirakadyarishta  AFI 200 ml  Sutikaroga, Agnimandya,', 'Atisara,Grahaniroga  12 - 24 ml  NS Both  \\n14.  Kanakasava  AFI 200 ml  Kasa, Shvasa ,', 'Rajayakshma, \\nKshat akshina 12   -   24   ml  NS Both', '15.  Kumaryasava  AFI 200 ml  Rajodushti, Krichhrartav, \\nPaktishula,', 'Paktishula, \\nParinamashula,  12   -   24   ml  NS Both', '16.  Kutajarishta  AFI 200 ml  Grahaniroga¸ Pravahika,', 'Raktatisara, Agnimandya  12   -   24   ml  NS Both', '17.  Khadirarishta  AFI 200 ml  Tvak  Roga, Kushtha, \\nKrimi, Arbuda  12   -   24   ml  NS Both', '18.  Lodhrasava/Rodh \\nrasava  AFI 200 ml  Prameha, Pradar a, Arsha', 'Garbhasayaroga,  12   -   24   ml  NS Both  \\n19.  Lohasava  AFI 200 ml  Pandu, Kamala, Shotha,', 'Hridroga, Daurbalya  12   -   24   ml  NS Both', '20.  Mustakarishta  AFI 200 ml  Agnimandya, Ajirna, 12   -   24   ml  NS Both   Grahaniroga,', 'Both   Grahaniroga, Visuchika', '21.  Pippalyadyasava  AFI 200 ml  Grahaniroga, \\nAgnimandya, Gulma,', 'Agnimandya, Gulma, \\nUdararoga,  12   -   24   ml  NS Both', '22.  Rohitakarishta  AFI 200 ml  Pliha, Udararoga, Gulma, \\nKamala  12   -   24   ml  NS Both', '23.  Sarasvatarishta  AFI 200 ml  Apasmara, Manasa \\nDosha, Smritibhransh a,', 'Udvega  12   -   24   ml  NS Both  \\n24.  Ushirasava  AFI 200 ml  Pittaj aroga, Daha, Trisha,', 'Pittaj a Netravy adhi  12   -   24   ml  NS Both', '25.  Vasakasava  AFI 200 ml  Kasa, Shvasa , Raktapitta  12   -   24   ml  NS Both', '26.  Punarnavasava  AFI 200 ml  Shotha, Pliha - Yakridroga, \\nMutraroga  12   -   24   ml  NS Both', '(B) Arka Kalpana  \\n \\nSr \\nNo Name of \\nMedicine  Refe\\nrenc\\ne \\nText  Dispensi\\nng Pack', 'ng Pack \\nSize Main Indications  Dose and Mode \\nof Administration  Precaution/ \\nContrain dicatio', 'Contrain dicatio\\nn Preferred \\nuse (OPD/ \\nIPD)  \\n27.  Arka  Yavani/Arka', 'Ajvayan a AFI 50 ml  Trikshula, Agnimandya, \\nAnaha,  10 -  25 ml  NS Both  \\n28.  Arka Shatpushpa/', 'Mishr eyarka  AFI 50 ml  Mandagni, Adhaman a, \\nShula, Krimi,Yonishula  10 -  25 ml  NS Both', '29.  Arka Pudina  AFI 50 ml Chhardi,  Ajirna, \\nUdarashula, Agnimandya  10 -  25 ml   NS Both', '(C) Avaleha, Khand, Pak Kalpana  \\n \\nSr \\nN\\no Name of Medicine  Referen\\nce Text  Dispen\\nsing \\nPack', 'sing \\nPack \\nSize Main Indications  Dose and Mode of \\nAdministration  Precaution/ \\nContrain dicat', 'Contrain dicat\\nion Preferred \\nuse (OPD/  \\nIPD)  \\n30.  Agastya Haritaki  \\n/ Agastya', '/ Agastya \\nRasayana  AFI 100 \\ngm Hikka, Kasa, Shvasa , \\nRasayana  5 -   15 gm  NS Both', '31.  Bilvadi Leha  AFI 100 \\ngm Jirna Pravahika, Aruchi, \\nAgnimandya, Praseka,', 'Chhardi  10 - 50 gm  NS Both  \\n32.  Brahama Rasayana  AFI 100 \\ngm Manodaurbalya, Jara,', 'Smritibhransha  10-15 gm  NS Both  \\n33.  Chitraka Haritaki  AFI 100', 'gm Pinasa, Kasa, Shvasa , 10 - 50 gm  Pregnancy, \\nPitta \\nPrakriti, \\nPaittik a \\nRoga  Both', 'Roga  Both  \\n34.  Chyavanprash \\nAvaleha  AFI 100 \\ngm Kasa, Shvasa , Rasayana  12-24 gm  NS Both', '35.  Drakshavaleha  AFI 100 \\ngm Pandu, Kamala, \\nHalimaka, Daurbalya, \\nKshaya  6-12 gm  NS Both', '36.  Haridrakhanda \\nPaka  AFI 100 \\ngm Shitapitta, Kandu', 'Visphota, 6 gm  NS Both   Dadru,Udarda, Kotha  \\n37.  Kutajavaleha  AFI 100', 'gm Atisara, Grahaniroga,  \\nPravahika  6 -12 gm   NS Both  \\n38.  Kalyanak Guda  AFI 100', 'gm Udararoga, Gulma, \\nBhagandar, Arsha  6-12 gm  NS Both  \\n39.  Kantakaryavaleha  AFI 100', 'gm Hikka, Kasa, Shvasa, \\nJirna Pratishaya, \\nParshvashula  6-12 gm  NS Both  \\n40.  Kushmandaka', '40.  Kushmandaka \\nRasayana  AFI 100 \\ngm Kasa, Shvasa , \\nUrah kshat a, Kshaya,', 'Raktapitta, Amlapitta  6-12 gm  NS Both  \\n41.  Puga Khand a/ \\nSupari Paka  AFI 100', 'gm Vandhyaroga, Pradara, \\nSom aroga, \\nGarbhados ha, \\nDaurbal ya 6-12 gm  NS Both', '42.  Saubhagyashunthi \\nPaka  AFI 100 \\ngm Prasavottar a Lakshan a, \\nSutikaroga,', 'Sutikaroga, \\nAgnimandya,  10-50 gm  NS Both  \\n43.  Shatavariguda  AFI 100', 'gm Rajodosha, Yonidosha,  \\nAsrigdar a, Padadaha, \\nKarshya  6 -12 gm  NS Both', '44.  Vasavaleha  AFI 100 \\ngm Kasa , Shvasa , Jvara, \\nParshv ashula  6-12 gm  Pregnancy  Both', '45.  Vyaghri Haritaki  AFI 100 \\ngm Kasa, Shvasa, \\nSvarakshaya,', 'Svarakshaya, \\nPratishyaya, P inasa  6-12 gm  Pregnancy  Both  \\n(D) Kvatha  Churna/Kashayam  \\n \\nSr', 'Sr \\nN\\no Name of Medicine  Refere\\nnce \\nText  Dispen\\nsing \\nPack', 'sing \\nPack \\nSize Main Indications  Dose and Mode of \\nAdministration  Precautio\\nn/ \\nContrain', 'n/ \\nContrain\\ndication  Preferred \\nuse \\n(OPD/ \\nIPD)  \\n46.  Dashamula Kvatha  \\nChurna  AFI 100', 'Churna  AFI 100 \\ngm Jvara , Sutikadosha, \\nShula, Shotha, \\nVatavyadhi  25-50 ml  Rasaksh\\naya,', 'aya, \\nBahumu\\ntrata Both  \\n47.  Dashmula Katutraya \\nKvatha  Churna  AFI 100', 'gm Shvasa ,Kasa,Parshva \\nshula, Vataroga  25-50 ml  NS Both  \\n48.  Dhanyapanchaka', 'Kashaya Churna  AFI 100 \\ngm Amashula, Amatisara, \\nAgnimandya, Aruchi  25-50 ml  NS Both', '49.  Guduchyadi Kashaya \\nChurna  AH 100gm  Agnimandhya, Pitta \\nDushti, Jvara  25-50 ml  NS Both', '50.  Indukantam \\nKashayam Churna  SY 100 \\ngm Vata Roga,Kshaya  25-50 ml  NS Both', '51.  Pancha -valkala \\nKashaya Churna  SS 100 \\ngm Vranashotha,Upadan', 'sha, Shveta Pradar a 100 ml Kvatha  for \\nwashing wound / \\nvaginal douche  NS Both  \\n52.  Pathyadi', '52.  Pathyadi \\nKvatha (Shadanga) \\nChurna  AFI 100 \\ngm Shiroroga, Bhru - \\nshankh a-Karna Shula,', 'Ardhavbhedak a, \\nSuryavarta  25-50 ml  Chhardi, \\nAtisara, \\nAtivirec\\nhana  Both   janya \\nRasaksh', 'Rasaksh\\naya, \\nVatapra\\nkopa \\n53.  Phalatrikadi Kvatha \\nChurna  AFI 100', 'Churna  AFI 100 \\ngm Kamala, Pandu  25-50 ml  Chhardi, \\nAtisara,\\nAtivirec\\nhana  \\njanya  \\nRasaksh', 'janya  \\nRasaksh\\naya, \\nVatapra\\nkopa Both  \\n54.  Rasnasaptaka \\nKashaya Churna  AFI 100', 'gm Janghashula, Urushula, \\nParshvashula, Trikshula, \\nPrish ashula  25-50 ml  Concom\\nitant \\nuse of', 'itant \\nuse of \\nEranda \\nTaila in \\nGarbhini  Both  \\n55.  Shadanga \\nKvatha  Churna  AFI 100', 'gm Trishna, Jvara  25-50 ml  Nausea \\ndue to \\nbitterness  Both  \\n56.  Trinapanchamula', 'Kvatha  Churna  AFI 100 \\ngm Mutrakricchra  25-50 ml  NS Both  \\n57.  Varunadi Kvatha', 'Churna  AFI 100 \\ngm Ashmari, Mutrasthila  25-50 ml  NS Both  \\n58.  Vasaguduchyadi', 'Kashaya Churna  AH 100gm  Pandu, Raktapitta  25-50 ml  NS Both  \\n(E) Guggulu  \\n \\nSr', '(E) Guggulu  \\n \\nSr \\nNo Name of Medicine  Refere\\nnce \\nText  Dispen\\nsing \\nPack', 'sing \\nPack \\nSize Main Indications  Dose and Mode of \\nAdministration  Precautio\\nn/ \\nContrai di', 'n/ \\nContrai di\\ncation  Preferred \\nuse \\n(OPD/ \\nIPD)  \\n59.  Amritadi Guggulu  BR 10 gm  Vata Rakta,', 'Dushtavrana,  \\nCharma Vikara  500 mg - 1 \\ngm \\n Long term  \\nuse in \\npregnancy  Both', 'pregnancy  Both  \\n60.  Gokshuradi Guggulu  AFI 10 gm  Prameha, \\nMutrakricchra,', 'Mutrakricchra, \\nMutraghat a, Ashmari, \\nPradara  500 mg  - 1 \\ngm  Long term  \\nuse in', 'use in \\npregnancy  Both  \\n61.  Kanchanara Guggulu  AFI 10 gm  Galaganda, Gandamala,', 'Apachi, Arbuda, Granthi  500 mg  - 1 \\ngm Long term  \\nuse in \\npregnancy  Both', 'pregnancy  Both  \\n62.  Kaishora Guggulu  AFI 10 gm  Vatashonit a, \\nPramehapidika, Vrana,', 'Kustha  Up - 3 gm  Long term  \\nuse in \\npregnancy  Both', 'pregnancy  Both  \\n63.  Lakshadi Guggulu  AFI 10 gm  Asthibhagna,', 'Asthichyuti, Asthiruja  Up - 3 gm  Long term  \\nuse in \\npregnancy  Both', '64.  Navak Guggulu  BR 10 gm  Sthaulya, Sandhigata 500 mg  - 1 Long term  Both   Vata  gm \\n use in', 'use in \\npregnancy  \\n65.  Rasna Guggulu  SS 10 gm  Gridhrasi, Amavata  500 mg  - 1 gm Long term', 'use in \\npregnancy  Both  \\n66.  Simhanada Guggulu  AFI 10 gm  Amavata, Vatarakta, \\nSandhi Shula,', 'Sandhi Shula, \\nAgnimandya  Up to 3 gm in divided \\ndoses  Pregnancy  Both  \\n67.  Saptavinshati', '67.  Saptavinshati \\nGuggulu  AFI 10 gm  Parshvashu la,Kasa', 'Shvasa , Hritshula  Up to 3 gm in divided \\ndoses  Pregnancy  Both', '68.  Triphala Guggulu  AFI 10 gm  Bhagandara, Arsha, \\nNadi Vrana, Gulma,', 'Nadi Vrana, Gulma, \\nShotha  Up to 3 gm in divided \\ndoses  Pregnancy \\nChronic or \\nrecurrent', 'recurrent \\ndiarrhoea  Both  \\n69.  Trayodashanga  \\nGuggulu  AFI 10 gm  Gridhrasi,', 'Sandhigraha, Katigraha  Up to 3 gm in  \\ndivided doses  Pregnancy  Both', '70.  Punarnava Guggulu  AFI 10 gm  Vatarakta, Vriddhiroga, \\nGridhrasi,Vastigatas', 'hula, Amavata  Up to 3 gm in divided \\ndoses  Pregnancy  Both', '71.  Yogaraja Guggulu  AFI 10 gm  Amavata, Agnimandya, \\nSandhigatavata  Up to 3 gm in divided', 'doses  Pregnancy  Both  \\n(F) Ghrita  \\n \\nSr \\nN\\no Name of Medicine  Refere\\nnce \\nText  Dispen\\nsing', 'Text  Dispen\\nsing \\nPack \\nSize Main Indications  Dose and Mode of \\nAdministration  Precautio\\nn/', 'n/ \\nContrain  \\ndication  Preferred \\nuse (OPD/ \\nIPD)', 'use (OPD/ \\nIPD)  \\n72.  Brahmi Ghrita  AFI 100 gm Apasmara, Unmada, \\nSmritikshaya,', 'Smritikshaya, \\nBudhidaurbalya  10 - 15 gm  NS Both', '73.  Dadimadi Ghrita  AFI 100 gm Pandu,  Parinamshula, \\nAgnimandya  10-15 gm  NS Both', '74.  Guggulutiktaka \\nGhrita  AH 100gm  Vata Roga  5-10 gm   NS Both', '75.  Jathyadi Ghrita  AH 100gm  Vrana, Dagdha Vrana  To be applied on \\naffected part  NS Both', '76.  Kalyanaka Ghrita  AFI 100 gm Bhutonmada, \\nApsmara,Balagraha, \\nVisavikara, Garavisha,', 'Smritidaurbalya  10-15 gm  NS \\n \\n IPD \\n77.  Kshirashatpala \\nGhrita  CS 100 gm Gulma, Grahaniroga,', 'Pliha Up to 50 gm  NS IPD \\n78.  Panchatikta Ghrita  AFI 100 gm Dushtavrana, Tvak', 'Vikara  5-10 gm  NS Both  \\n79.  Phala Ghrita  AFI 100 gm Yonivyapat  10-15 gm  NS IPD', '80.  Shatavaryadi Ghrita  SY 100 gm Mutraghata  10-15 gm  NS IPD', '81.  Sukumar Ghrita  AFI 100 gm Vidvibandha, \\nUdararoga, Gulma,', 'Udararoga, Gulma, \\nYonishula,  Pliharoga  10-15 gm  NS Both', '82.  Indu kanta Ghrita  AFI 100 gm Shula,  Udara, Vis hama \\nJvara  10-15 gm  NS IPD', '83.  Tiktaka Ghrita  AH 100 gm Tvak roga  10-15 gm  NS Both   84.  Triphala Ghrita  AFI 100 gm Kam', 'AFI 100 gm Kam ala, Timir a,', 'Netraroga, Visarpa, \\nKhalitya  10-15 gm  NS Both  \\n(G) Churna - Multi -ingredient  \\n \\nSr \\nN', 'Sr \\nN\\no Name of Medicine  Refere\\nnce \\nText  Dispen\\nsing \\nPack', 'sing \\nPack \\nSize Main Indications  Dose and Mode of \\nAdministration  Precau  \\ntion/  \\nContrain', 'tion/  \\nContrain  \\ndication  Preferred \\nuse (OPD/ \\nIPD)  \\n85.  Ajamodadi', '85.  Ajamodadi  \\nChurna  AFI 25 gm  Shula, Gridhrasi,  \\nAmvat a 3-6 gm  \\n NS Both', 'NS Both  \\n86.  Avipattikara Churna  AFI 50 gm  Amlapitta, \\nVidagdhajirna  3-6 gm   NS Both', '87.  Balachaturbhadra \\nChurna  AFI 25 gm  Jvara , Atisara, Bala \\nShosha  250 - 500 mg  \\n  NS Both', 'NS Both  \\n88.  Bilvadi Churna  CA(U)  50 gm  Shoth a,Shula Yukta \\nBradhna 3-6 gm  NS Both', '89.  Dadimastak Churna  AFI 50 gm  Grahaniroga, Atisara, \\nAruchi  3-6 gm  NS Both', '90.  Dashanasanskar a \\nChurna  AFI 50 gm  Mukha Roga, Danta \\nRoga  Use as tooth powder  NS Both', '91.  Eladi Churna  AFI 25 gm  Kasa, Shvasa  2 -4 gm  NS Both  \\n92.  Hing vashtaka', '92.  Hing vashtaka \\nChurna  AFI 50 gm  Agnimandya, Shula, \\nGulma,Vataroga  2- 4 gm  NS Both', '93.  Lavanabhaskara \\nChurna/ \\nBhaskarlavan churna  AFI 50 gm  Agnimandya, Gulma,', 'Ajirna, Grahaniroga, \\nVatakaphaj aroga,  3-6 gm   Shotha, \\nJalodara, \\nhyperten \\nsion, long', 'sion, long \\nterm use  Both  \\n94.  Nisha -Amalaki \\nChurna  AH 50 gm  Prameha, Madhumeha  3-6 gm', 'NS Both  \\n95.  Pushyanuga Churna  AFI 25 gm  Raktapradara, \\nShwetapradar a,', 'Shwetapradar a, \\nRaktarsha  2-3 gm  NS Both  \\n96.  Panchanimba \\nChurna  AFI 25 gm  Kshudrakushtha,', 'Mahakushtha, \\nRaktadushti  3- 5 gm  NS Both', '97.  Sitopaladi Churna  AFI 25 gm  Shvasa , Kasa, Kshaya, \\nUrdhvag a  Raktapitta  2-3gm   NS Both', '98.  Talishadya Churna  AFI 25 gm  Kasa, Shv asa, \\nPratishyaya, Jvara  2-4 gm   NS Both', '99.  Trikatu Churna  AFI 25 gm  Arochaka, Ama, \\nAgnimandya  1-2 gm  Paittik a \\nVikara or', 'Vikara or \\nPrakriti, \\nRaktaj \\nRoga, \\npregnancy\\n, long  \\nterm use  Both', 'term use  Both  \\n100.  Triphala Churna  AFI 50 gm  Anaha, Prameha, \\nNetraroga  3-6 gm  \\n Dehydra', 'Dehydra\\n-tion Both', '101.  Jatiphaladya Churna  AFI 25 gm  Atisara, Pravahika, 1-3 gm  Infantile Both   Vatashlaismika', 'Pratishyaya  diarrhea, \\nlong term \\nuse \\n(H) Churna - Single Ingredient  \\n \\nSr \\nN', 'Sr \\nN\\no Name of Medicine  Refere\\nnce \\nText  Dispen\\nsing \\nPack', 'sing \\nPack \\nSize Main Indications  Dose and Mode of \\nAdministration  Precaution\\n/ \\nContrain di', '/ \\nContrain di\\ncation  Preferred \\nuse (OPD/ \\nIPD)', 'use (OPD/ \\nIPD)  \\n102.  Amalaki Churna  API 50 gm  Prameha, Raktapitta,', 'Amlapitta,Daha  3-6 gm  NS Both', '103.  Arjuna Churna  API 50 gm  Hridroga, Prameha  3-6 gm  NS Both  \\n104.  Ashvagandha', '104.  Ashvagandha \\nChurna  API 50 gm  Kshaya, Daurbalya, \\nVatroga,Klaivya  3-6 gm  Long term', 'use may \\nincrease \\nblood \\npressure  Both  \\n105.  Gokshura Churna  API 50 gm  Mutraghata,', 'Mutrashmari, Vrishya, \\nRasayana  2-5 gm  \\n NS Both  \\n106.  Guduchi Churna  API 50 gm  Kushtha,', 'Jvara ,Vatarakta,Kam \\nala,Pandu, Prameha  3-6 gm  NS Both', '107.  Haritaki Churna  API 50 gm  Vibandha, Udararoga  3-6 gm  \\n Debility,  \\npregnancy,', 'pregnancy, \\ndehydrat ion\\n, Paittik a \\nRoga,  Both', 'Roga,  Both  \\n108.  Pippali Churna  API 25 gm  Rasayana, Jvara , Shvasa ,', 'Kasa  1-2 gm  Long term  \\nuse in \\nhigher \\ndoses  Both', 'doses  Both  \\n109.  Pippali  mula Churna  API 25 gm  Udararoga, Anaha,', 'Gulma, Shiroroga  500mg -1 gm  NS Both', '110.  Punarnava Churna  API 50 gm  Shotha, Pandu  2-3 gm  NS Both', '111.  Shunthi Churna  API 25 gm  Amavata, Agnimandya \\nUdararoga, Shvasa  2- 3 gm  NS Both', '112.  Sarasvata Churna  BR 25 gm  Medhya, Smriti and \\nBuddhi Vardhak a 1-2 gm  NS Both', '113.  Trivritam ul Churna / \\nTrivrita Churna  API 25 gm  Malabandha, Gulma,', 'Udararoga  2-3gm  Dehydrat \\nion, \\nmalnutrit \\nion,  long \\nterm use  Both', 'term use  Both  \\n114.  Vidanga Churna  API 50 gm  Krimiroga, Medoroga  5-10  gm  \\n May', 'May  \\nprevent or  \\ndisrupt \\nconcepti on Both  \\n115.  Yashtimadhu/ \\nMadhuyashti/ Yashti', 'Churna  API 50 gm  Rasayana,Kasa, Shvasa , \\nVranaropana, Kshaya ,', 'Svarbheda  Up to 12 gm  Obesity, \\nhyperten sio\\nn, oedema, \\nlong term Both   use \\n(I)  Taila  \\n \\nSr', '(I)  Taila  \\n \\nSr \\nNo Name of Medicine  Refere\\nnce \\nText  Dispen\\nsing \\nPack', 'sing \\nPack \\nSize Main Indications  Dose and Mode of \\nAdministration  Precautio\\nns Preferred', 'ns Preferred \\nuse (OPD/ \\nIPD)  \\n116.  Anutaila  AFI 10 ml  Urdh vajatrugataroga,', 'Palitya  2-10 drops  for  nasal \\nadministration  NS Both  \\n117.  Apamargkshara', 'Taila  AFI 10 ml  Badhirya, Karnanada, \\nKarnag utha 2-5 drops in each ear  NS Both', '118.  Bala Taila  AFI 50 ml  Kshat a,Kshaya, \\nVatavyadhi, Shosha, \\nGulma  For Abhyanga   NS Both', '119.  Balash vagandhadi \\nTaila  AH 50 ml  Balaroga  For Jwara  NS Both', '120.  Bhringaraja Tail  BR 50 ml  Kesh apata, Shiroroga, \\nKhalitya, Indralupta  For Nasya,', 'Shiroabhyanga, \\nKavalgraha  NS Both  \\n121.  Dhan vantar \\nTaila/Dhan vantar', 'Taila/Dhan vantar \\nTaila Avarti  AFI 10 ml  Vataroga, Pakshavadha, \\nDhatukshaya,', 'Dhatukshaya, \\nSutikaroga, Balaroga  10-30 drops  for \\ninternal use  Amadosh\\na Both', 'a Both  \\n122.  Eranda Taila  CD 50 ml  Vatavikara,Gridhrasi, \\nVibandha, Katish ula 10-30 ml  Peri-', 'concepti o\\nn period, \\nlong term  \\nuse in  \\npregnancy  Both', 'pregnancy  Both  \\n123.  Erimedadi Taila  AFI 25 ml  Mukha Roga , \\nDantaroga  For Ka valgraha,', 'Pratisaran a, Nasya, \\nShirodharan a NS Both  \\n124.  Gandharvahasta', 'Taila  AFI 50 ml  Vidradhi, Udara, \\nMahavataroga, Gulma, \\nUdavarta  6-12 ml  Ajirna, \\nAmavast', 'Amavast \\nha Both  \\n125.  Jatyadi Taila  AFI 25 ml  Vrana, Vranashoth a Application on wound', 'or injury  NS Both  \\n126.  Kshirbala Taila / \\nKshirbala Taila', 'Kshirbala Taila \\nAvarti (Shatapaki)  AFI 50 ml  Vatarakta, Vataroga, \\nSukradosha, Rajodosh a,', 'Karshya  Internal  use: 10 - \\n12 ml  \\nExternal use: \\nAbhyanga and Nasya  NS Both', '127.  Kottamachukkadi \\nTaila  AFI 50 ml  Vataroga, Amavata, \\nAngasthambha  For Abhyanga  NS Both', '128.  Karp uradi Taila  SY 50 ml  Khalli, Ang avedana, \\nSandhivedana  For Abhyanga  NS Both', '129.  Kasisadi Taila  AFI 25 ml  Arsha  External use for  \\nArshankur a NS Both', '130.  Laghuvishagarbha \\nTaila  AFI 50 ml  Vataroga, Pakshaghat,  For Abhyanga  NS Both', '131.  Marichyadi Taila  AFI 25 ml  Kandu, Vicharchika   Application on \\naffected part  NS Both', '132.  Mahanarayan Taila  AFI 50 ml  Vataroga, Pakshaghat a,', 'Ardita, Vandhyatva  For Abhyanga, Nasya, \\nAnuvasana Vasti  NS Both   133.  Brihanmasha Taila', '/Mahamash Taila  AFI 50 ml  Ardita , Shirokampa, \\nVidradhi, Bahus hosha,', 'Avabahuk a For Abhyanga  NS Both  \\n134.  Murivenna Tail  SY 50 ml  Abhighataja Vedana', 'and Vata Vikara  For Abhyanga  NS Both  \\n135.  Narayana Taila  AFI 50 ml  Vataroga, Pangu,', 'Shirogatavata, \\nManyastambha, \\nHanustambh a Internal  use: 6 gm  \\nExternal use: f Nasya,', 'Abhyanga and \\nAnuvasana Vasti  NS Both  \\n136.  Nalpamaradi Taila  AFI 25 ml  Tvakroga, Kushta,', 'Pama, Kandu  For  Pratisarana, \\nAbhyanga  NS Both', 'Abhyanga  NS Both  \\n137.  Nirgundi Taila  BR 25 ml  Nadivrana, Pama, \\nApachi, Gandamala,', 'Apachi, Gandamala, \\nGalaganda  Internal  use: 15 - 30 \\nml  \\nExternal use: \\nAbhyanga and 2 -6', 'Abhyanga and 2 -6 \\ndrops for Nasya or \\nKarnap uran NS Both', '138.  Panchaguna Taila  AFI 50 ml  Sandhigatvata, \\nKarnash ula,Vrana  For Abhyanga, wound', 'dressing Karnap urana \\nor Karnabindu  NS Both', '139.  Pinda Taila  AFI 50 ml  Vataraktaruja, Daha  Used externally for \\nAbhyanga  NS Both', 'Abhyanga  NS Both  \\n140.  Prasarini Taila  AFI 50 ml  Vataroga,Gridhrasi,', 'Khanja, Panguvata  For Abhyanga over \\naffected body part  Not to be \\nused in \\nGuda roga, \\nKrisha', 'Guda roga, \\nKrisha \\nrogi, \\nAjirna, \\nVamit, \\nKritnasy a, \\nVirikta  IPD \\n141.  Sahacharadi Taila/', 'Brihatsahcharadi \\nTaila  AFI 50 ml  Vatavyadhi, Kampa, \\nUnmada, P inasa,', 'Unmada, P inasa, \\nYoniroga, Akshepa  Internal  use: 6 -12 \\nml  \\nExternal use for \\nAbhyanga  NS IPD', 'Abhyanga  NS IPD \\n142.  Saindhavadi Taila  AFI 50 ml  Kaphavataja Nadivrana,  For Abhyanga  NS IPD', '143.  Shadabindu Taila  AFI 10 ml  Drishtidaurbalya, \\nKeshashata, Shiroroga,  For Nasya,', 'Kavalgraha, \\nAbhyanga, \\nShiroabhyanga  NS IPD \\n144.  Somaraji Taila', '/Bakuchi Taila  AFI 25 ml  Shvitra, Kushtha  For local application', 'on affected body part  Disconti -\\nnue if \\nexcessive \\nirritation, \\nvescicati \\non, \\nextensive', 'on, \\nextensive \\nhyperpig \\nmentation \\nappears  Both  \\n(J) Lavana & Kshar a \\n  Sr', 'Sr \\nNo Name of Medicine  Refere\\nnce \\nText  Dispen\\nsing \\nPack', 'sing \\nPack \\nSize Main Indications  Dose and Mode of \\nAdministration  Precau  \\ntion/  \\nContrain di', 'tion/  \\nContrain di\\ncation  Preferred \\nuse (OPD/ \\nIPD)', 'use (OPD/ \\nIPD)  \\n145.  Apamarga Kshar  AFI 10 gm  Gulma, Grahani, Shvasa ,', 'Sharkara, Ashmari  125-500 mg  \\n NS Both  \\n146.  Yavakshar  AFI 10 gm  Adhamana, Anaha,', 'Gulma, Mutrakricchra  500 mg - 1 gm  NS Both  \\n147.  Ksharsutra  CD 30 \\nCm \\nthre ad  \\nof 20', 'thre ad  \\nof 20 \\nNo Bhagandar a, Arsha, \\nNadivrana, Charmk ila To be applied on', 'affected part  NS IPD \\n(K) Lepa for local application  \\n \\nSr \\nNo Name of Medicine  Refere\\nnce', 'nce \\nText  Dispen\\nsing \\nPack \\nSize Main Indications  Dose and Mode of \\nAdministration  Precau', 'tion/ \\nContrain\\ndication  Preferred \\nuse \\n(OPD/ \\nIPD)', 'use \\n(OPD/ \\nIPD)  \\n148.  Dashanga Lepa  AFI 50 gm  Visarpa, Sthanik a', 'Shotha, Kushtha  To apply on affected \\npart NS Both', 'part NS Both  \\n149.  Shveta Malaham  AFI 25gm  Agnidagdha  To apply on affected \\npart NS Both', 'part NS Both  \\n150.  Sarjarasa Malahara  RTSSP S  25 gm  Dushta Vrana, Arsha,', 'Gudapaka, Vidarika  To apply on affected \\npart NS Both  \\n(L) Vati & Gutika  \\n \\nSr', 'Sr \\nNo Name of Medicine  Refere\\nnce \\nText  Dispen\\nsing \\nPack', 'sing \\nPack \\nSize Main Indications  Dose and Mode of \\nAdministration  Precaution/ \\nContrain', 'Contrain  \\ndication  Preferred \\nuse \\n(OPD/ \\nIPD)', 'use \\n(OPD/ \\nIPD)  \\n151.  Abhayadi Modakam  SS 20 gm  Malabandha  2-4 modakam  NS Both', '152.  Bilvadi Gutika  AFI 5 gm  Vishuchika, A jirna, \\nGaradosha, Jvara  1-2 pills  NS Both', '153.  Chandraprabha Vati  AFI 5 gm  Prameha, \\nMutrakricchra, \\nMutraghata, Ashmari,', 'Striroga, Daurbalya, \\nPandu, Kamala  250 mg  NS Both', '154.  Chitrakadi Gutika  AFI 5 gm  Agnimandya, \\nAmadosha, Grahaniroga  250-500 mg  \\n Pregn ancy,', 'Pregn ancy, \\nUterine \\nbleeding, \\nPitta Prakriti, \\nRaktpittaj \\nRoga, long \\nterm use  Both', 'term use  Both  \\n155.  Dhanvantar Gutika  AFI 5 gm  Kasa, Shvasa , Hridroga,', 'Yakshma,Hikka  250 -500 mg  \\n NS Both  \\n156.  Eladi Gutika  AFI 10 gm  Kasa, Shvasa , Chhardi,', 'Bhrama, S varabheda, \\nRaktanishthivana  500 mg -1 gm   NS Both', '157.  Kankayan Gutika  AFI 10 gm  Gulma, Krimi, Arsha  500 mg - 1 gm  NS Both   158.  Khadiradi', '158.  Khadiradi Gutika', '(Mukhroga)  AFI 10 gm  Mukhdaurgandhya, \\nMukh apaka, Dantaroga, \\nGalaroga  1 - 2 pills  NS Both', '159.  Kutajaghan Vati  AFI 5  gm  Atisara, Grahani, \\nJvara tisara  250-500 mg  \\n NS Both', 'NS Both  \\n160.  Lavangadi Vati  AFI 5 gm  Kasa, Shvasa  1-2 pills  NS Both', '161.  Lahsunadi Vati  AFI 10 gm  Visuchika, Ajirna, \\nAtisara  500 mg -1 gm  Hyperacidity,', 'Peptic Ulcer, \\nPitta Prakriti, \\nhistory of \\nRaktapitt aj a \\nVikara  Both', 'Vikara  Both  \\n162.  Prabhakar a Vati AFI 5 gm  Hridroga, Daurbalya  125-250 mg  \\n NS Both', 'NS Both  \\n163.  Rajahpravartini Vati  AFI 5 gm  Rajo rodha, Kastartava  250 mg  Pregnancy,', 'lactation, \\nexcessive \\nUterine \\nBleeding, \\nkidney \\ndisease, \\ndiscontin ue in \\ncase of  \\nsevere', 'case of  \\nsevere  \\nabdomin al \\npain  Both  \\n164.  Samshamani Vati', '/ Guduchighan a Vati AFI 5 gm  Jvara , Jirna Jvara , \\nVishma  Jvara , Daha  250-500 mg', 'NS Both  \\n165.  Sarpagandhaghana \\nVati AFI 5 gm  Anidra, Manodvega  250-500 mg  \\n Concomi', 'Concomi  \\ntant use of \\nmedicines  \\nmade of \\nVatsanab  ha \\nor Gok shur u,  \\nanti hyperten \\nsives /', 'sives / \\ndepressa nts / \\npsychotr opic  \\nmedicines \\npostural \\nhypotens  ion, \\nbradycar dia  Both', '- \\n166.  Sanjivani Vati  AFI 5 gm  Mandagni, Ajirna, \\nGulma, Visuchika,', 'Gulma, Visuchika, \\nSarpadamsha  125 mg  Pitta Prakriti \\nindividu als, \\nhyper \\nsensitivity to', 'sensitivity to \\nBhallataka, \\npatients \\nhaving history \\nof \\nRaktapittaj a \\nVikar a,', 'Vikar a, \\npregnancy, Both  \\n \\n \\n \\n \\n \\n-  cardiac \\narrhythm ia, \\nlong term use', 'long term use  \\n167.  Vettumaran Gulika  SY 5 gm  Jvara , Chhardi,', 'Mutraghata , Gulma  250-375 mg  \\n NS Both  \\n(M) Varti, Netrabindu, Anjana  \\n \\nSr', 'Sr \\nNo Name of Medicine  Refere\\nnce \\nText  Dispen\\nsing \\nPack', 'sing \\nPack \\nSize Main Indications  Dose and Mode of \\nAdministration  Precautio\\nn/ \\nContrain di', 'n/ \\nContrain di\\ncation  Preferred \\nuse \\n(OPD/ \\nIPD)  \\n168.  Elanirkuzambu/N', 'alikeranjana  AFI 25 ml  Netravrana, Arma, \\nTimira, Pittaja', 'Timira, Pittaja \\nNetraroga, Abhishyanda  1-2 drops to be \\ninstilled in eyes  NS Both  \\n(N) Sattva', '(N) Sattva  \\n \\nSr \\nNo Name of Medicine  Ref \\nerence \\nText  Dispen\\nsing \\nPack', 'sing \\nPack \\nSize Main Indications  Dose and Mode of \\nAdministration  Precautio\\nn/ \\nContrain', 'n/ \\nContrain  \\ndication  Preferred \\nuse \\n(OPD/ \\nIPD)', 'use \\n(OPD/ \\nIPD)  \\n169.  Guduchi Sattva  AFI 25 gm  Jvara , Vatarakta,', 'Kamala, Prameha  500 mg - 1gm   NS Both  \\n(O) Parpati  \\n \\nSr \\nNo Name of Medicine  Ref \\nerence', 'erence \\nText  Dispen\\nsing \\nPack \\nSize Main Indications  Dose and Mode of \\nAdministration  Precautio', 'n/ \\nContrain  \\ndication  Preferred \\nuse \\n(OPD/ \\nIPD)', 'use \\n(OPD/ \\nIPD)  \\n170.  Panchamrita Parpati  AFI 5 gm  Grahani, Atisara,', 'Agnimandya, Kshaya  125- 250 mg  \\n Peri- \\nconcepti \\nonal \\nperiod, \\npregnanc \\ny, lactation \\nperiod,', 'period, \\nkidney \\ndisease, \\nsmall \\nchildren  Both  \\n171.  Shveta \\nParpati/Kshara', 'Parpati/Kshara \\nParpati  AFI 10 gm  Ashmari, Mutrakriccha,  \\nMutraghata  500 mg - 1 gm  \\n NS Both', 'NS Both  \\n(P) Pishti Kalpana  \\n \\nSr \\nNo Name of Medicine  Refere\\nnce \\nText  Dispen\\nsing \\nPack', 'sing \\nPack \\nSize Main Indications  Dose and Mode of \\nAdministration  Precautio\\nn/ \\nContrain di', 'n/ \\nContrain di\\ncation  Preferred \\nuse \\n(OPD/ \\nIPD)', 'use \\n(OPD/ \\nIPD)  \\n172.  Akika Pishti  AFI 5 gm  Hriddaha, Hridroga,', 'Kshaya, Shiroroga, Kasa,  125 -- 250 mg  \\n NS Both', 'NS Both  \\n173.  Mukta Pishti  AFI 2 gm  Manodosha, Unmada, 65-125 mg  NS IPD  Hridroga', '174.  Pravala Pishti  AFI 5 gm  Kasa, Pittaroga, \\nManodaurbalya,', 'Manodaurbalya, \\nOjakshya, Hridroga  250 mg  NS Both  \\n(Q) Bhasma  \\n \\nSr', '(Q) Bhasma  \\n \\nSr \\nNo Name of Medicine  Refere\\nnce \\nText  Dispen\\nsing \\nPack', 'sing \\nPack \\nSize Main Indications  Dose and Mode of \\nAdministration  Precaution\\n/ \\nContrain di', '/ \\nContrain di\\ncation  Preferred \\nuse (OPD/ \\nIPD)', 'use (OPD/ \\nIPD)  \\n175.  Godanti Bhasma  AFI 10 gm  Shirahs hula, Pitta Jvara,', 'Jirnajvara, Daha  500 mg - 1 gm  with \\nghee, sugar, warm \\nmilk or water  NS Both', '176.  Jaharamohara \\nBhasma  AFI 5 gm  Hridroga, Raktapitta, \\nArsha, Raktaj Pravahika  250- 500 mg', 'NS Both  \\n177.  Kapardika Bhasma  AFI 5 gm  Parinamashula, \\nAgnimandya,', 'Agnimandya, \\nKarnasrava  250 mg  Not to be \\nused  on \\nchange of \\nphysical \\ncharacter', 'character \\nistics  Both  \\n178.  Mandur Bhasma  AFI 5 gm  Kamala, Pandu  250-500 mg  \\n NS Both', 'NS Both  \\n179.  Muktashukti Bhasma  AFI 5 gm  Udarashula, Jvara , Pitta', 'Jvara , Raktajroga  250-500 mg  \\n NS Both  \\n180.  Shankha Bhasma  AFI 5 gm  Agnimandya, Amlapitta,', 'Vidagdhajirna, \\nParinamashula,  250 mg  NS Both', '181.  Sphatika Bhasma  AFI 5 gm  Jvara , Kaphaj a Vrana, \\nShvitra, Visarpa,, \\nRaktasrav a,', 'Raktasrav a, \\nYonibhransh a 125-250 mg  \\n NS Both  \\n182.  Tankana Bhasma/', 'Saubhagya Bhasma  AFI 5 mg  Kasa, Shvasa  125 - 250 mg  NS Both  \\n(R) Mandura  \\n \\nSr', '(R) Mandura  \\n \\nSr \\nNo Name of Medicine  Refere\\nnce \\nText  Dispen\\nsing \\nPack', 'sing \\nPack \\nSize Main Indications  Dose and Mode of \\nAdministration  Precauti\\non/ \\nContrai\\nndicatio', 'Contrai\\nndicatio\\nn Pre- \\nferred \\nuse \\n(OPD/ \\nIPD)  \\n183.  Punarnavadi', '183.  Punarnavadi \\nMandura  AFI 5 gm  Pandu, Shotha, \\nPliharoga  250-500 mg  \\n NS Both', 'NS Both  \\n(S) Rasayoga  \\n \\nSr \\nNo Name of Medicine  Refere\\nnce \\nText  Dispen\\nsing \\nPack', 'sing \\nPack \\nSize Main Indications  Dose and Mode of \\nAdministration  Precau  \\ntions Preferre\\nd use', 'd use \\n(OPD/ \\nIPD)  \\n184.  Arogyavardhini \\nVati/Rasa  AFI 5 gm  Kushta, Medoroga,', 'Jvara  250-500 mg  \\n Old age, \\npaediatric Both   age group, \\npericonc  \\neptional \\nperiod,', 'eptional \\nperiod, \\npregnancy, \\nlactation  \\nperiod, \\nkidney \\ndisease, \\nkarshaya', 'karshaya  \\n185.  Arsho Kuthara Rasa  BR 5 gm  Arsha  250 mg  NS Both', '186.  Brahmi Vati  AFI 5 gm  Bhrama, Manoroga, \\nAptantrak, Akshepa, \\nHriddaurbalya  125-250 mg', 'NS Both  \\n187.  Gandhak Rasayana  YR 5 gm  Kushta,  Raktadushti, \\nPrameha  250-500 mg  \\n Hyperse', 'Hyperse \\nnsitivity, \\nloose \\nmotions  Both', 'motions  Both  \\n188.  Kamadudha  Rasa  RYS 5 gm  Amlapitta, Raktapitta, \\nDaha, Jirna Jvara ,', 'Pradara  125-250 mg  \\n  NS Both  \\n189.  Laghumalini Vasanta \\nRasa  AFI 5 gm  Kshaya, Yakshma,', 'Pradara, Netraroga, \\nArsha, Jirna Jvara  125- 250 mg  \\n Kidney \\ndisease, \\nlong \\nterm \\nuse Both', 'term \\nuse Both  \\n190.  Laghu  Sutashekhara \\nRasa  AFI 5 gm  Pittaja S hirahshula, \\nArdhavbhedak a,', 'Ardhavbhedak a, \\nSuryavarta, Daha, \\nUrdhv aga raktapitta  250-500mg  \\n Long term \\nuse, \\npregnancy', 'use, \\npregnancy  \\nlactation \\nperiod, \\npaediatric \\nage \\ngroup  Both', 'group  Both  \\n \\n191.  Navajivana Rasa  RTS 2 gm  Hridya , Balya, \\nShulahara  625-125 mg', 'Long term \\nuse, \\nhyperten \\nsion,  \\npregnancy  Both', 'pregnancy  Both  \\n192.  Shankha Vati  AFI 5 gm  Grahani, Atisara, \\nAmajirna, Visuchika,', 'Shula  250-500 mg in \\ndivided doses  Kidney \\ndisease, \\nbradycar - \\ndia, arrhy - \\nthmia, \\nhypotens', 'thmia, \\nhypotens  \\nion,  long \\nterm use, \\nperi- \\nconcepti \\nonal \\nperiod \\nperiod,', 'period \\nperiod, \\npregnancy,  Both  \\n \\n \\n \\n \\n \\n \\n \\n \\n \\n \\n \\n \\n  lactating \\nmothers \\nand \\ndebilitate', 'and \\ndebilitate \\npatients   \\n \\n \\n193.  Shirahshuladi vajra', 'Rasa  AFI 5 gm  Shirahshula, Shiroroga  250-500 mg  \\nin single or divided \\ndose  \\n Kidney', 'dose  \\n Kidney \\ndisease, \\nlong term \\nuse, peri - \\nconcepti  \\nonal \\nperiod, \\npregnancy,  \\nlactating', 'lactating \\nmothers, \\ndebilitay \\ned \\npatients  Both', 'patients  Both  \\n194.  Shvasa kuthara Rasa  AFI 5 gm  Kasa, Shvasa ,', 'Vatakaphaja Roga  125-250 mg  \\n Kidney \\ndisease, \\nbradycar \\ndia, arrhy - \\nthmia, \\nhypotens', 'thmia, \\nhypotens  \\nion,  long \\nterm adm - \\ninist \\nration, \\npericonc \\neptional  \\nperiod,', 'eptional  \\nperiod, \\npregnancy, \\nlactating \\nmothers,  \\ndebilitate \\npatients  IPD', '195.  Smritisagar a Rasa  AFI 5 gm  Apasmar a, Smriti', 'Daurbalya  125-250 mg  \\n NS Both', 'NS Both  \\n196.  Tribhuvankirti Rasa  AFI 5 gm  Jvara , Pratishyaya, Kasa  125-250 mg  \\n Bradycar', 'Bradycar \\ndia, \\narrhythm \\nias, small \\nchildren, \\nVrikka \\nRoga, long  \\nterm \\nadminist \\nration,', 'administ \\nration, \\npericonc \\neptional \\nperiod,  \\npregnancy,  \\ndebilitate Both', 'patients  \\n197.  Vatagajankusha Rasa  BR 5 gm  Vata Roga, Avabahuka, \\nUrustambha,', 'Urustambha, \\nPakshaghata,G ridhra si 250 mg  Long term \\nuse, Vrikka \\nRoga, peri - \\nconcepti \\nonal', 'concepti \\nonal \\nperiod,  \\npregnancy, \\nlactation \\nand \\ndebilitate \\npatients  IPD', '198.  Vatavidhavansan \\nRasa  AFI 5 gm  Vatajashula, Sutika', 'Vata, Grahaniroga  250 mg  NS IPD \\n(T) Lauha  \\n \\nSr \\nNo Name of Medicine  Refere\\nnce \\nText  Dispen', 'nce \\nText  Dispen\\nsing \\nPack \\nSize Main Indications  Dose and Mode of \\nAdministration  Precautio', 'n/ \\nContrain\\ndication  Preferred \\nuse \\n(OPD/ \\nIPD)', 'use \\n(OPD/ \\nIPD)  \\n199.  Navayasa Lauha  AFI 5 gm  Pandu, Kam ala, \\nHridroga  250 mg  NS Both', '200.  Saptamrita Lauha  AFI 5 gm  Timir a, Drishtimandya  250 mg  NS Both']\n"
     ]
    }
   ],
   "source": [
    "print(texts2)"
   ]
  },
  {
   "cell_type": "code",
   "execution_count": 76,
   "metadata": {},
   "outputs": [
    {
     "name": "stderr",
     "output_type": "stream",
     "text": [
      "huggingface/tokenizers: The current process just got forked, after parallelism has already been used. Disabling parallelism to avoid deadlocks...\n",
      "To disable this warning, you can either:\n",
      "\t- Avoid using `tokenizers` before the fork if possible\n",
      "\t- Explicitly set the environment variable TOKENIZERS_PARALLELISM=(true | false)\n"
     ]
    },
    {
     "name": "stdout",
     "output_type": "stream",
     "text": [
      "Requirement already satisfied: langchain_community in ./.venv/lib/python3.11/site-packages (0.0.38)\n",
      "Requirement already satisfied: PyYAML>=5.3 in ./.venv/lib/python3.11/site-packages (from langchain_community) (6.0.1)\n",
      "Requirement already satisfied: SQLAlchemy<3,>=1.4 in ./.venv/lib/python3.11/site-packages (from langchain_community) (2.0.30)\n",
      "Requirement already satisfied: aiohttp<4.0.0,>=3.8.3 in ./.venv/lib/python3.11/site-packages (from langchain_community) (3.9.5)\n",
      "Requirement already satisfied: dataclasses-json<0.7,>=0.5.7 in ./.venv/lib/python3.11/site-packages (from langchain_community) (0.6.6)\n",
      "Requirement already satisfied: langchain-core<0.2.0,>=0.1.52 in ./.venv/lib/python3.11/site-packages (from langchain_community) (0.1.52)\n",
      "Requirement already satisfied: langsmith<0.2.0,>=0.1.0 in ./.venv/lib/python3.11/site-packages (from langchain_community) (0.1.57)\n",
      "Requirement already satisfied: numpy<2,>=1 in ./.venv/lib/python3.11/site-packages (from langchain_community) (1.26.4)\n",
      "Requirement already satisfied: requests<3,>=2 in ./.venv/lib/python3.11/site-packages (from langchain_community) (2.31.0)\n",
      "Requirement already satisfied: tenacity<9.0.0,>=8.1.0 in ./.venv/lib/python3.11/site-packages (from langchain_community) (8.3.0)\n",
      "Requirement already satisfied: aiosignal>=1.1.2 in ./.venv/lib/python3.11/site-packages (from aiohttp<4.0.0,>=3.8.3->langchain_community) (1.3.1)\n",
      "Requirement already satisfied: attrs>=17.3.0 in ./.venv/lib/python3.11/site-packages (from aiohttp<4.0.0,>=3.8.3->langchain_community) (23.2.0)\n",
      "Requirement already satisfied: frozenlist>=1.1.1 in ./.venv/lib/python3.11/site-packages (from aiohttp<4.0.0,>=3.8.3->langchain_community) (1.4.1)\n",
      "Requirement already satisfied: multidict<7.0,>=4.5 in ./.venv/lib/python3.11/site-packages (from aiohttp<4.0.0,>=3.8.3->langchain_community) (6.0.5)\n",
      "Requirement already satisfied: yarl<2.0,>=1.0 in ./.venv/lib/python3.11/site-packages (from aiohttp<4.0.0,>=3.8.3->langchain_community) (1.9.4)\n",
      "Requirement already satisfied: marshmallow<4.0.0,>=3.18.0 in ./.venv/lib/python3.11/site-packages (from dataclasses-json<0.7,>=0.5.7->langchain_community) (3.21.2)\n",
      "Requirement already satisfied: typing-inspect<1,>=0.4.0 in ./.venv/lib/python3.11/site-packages (from dataclasses-json<0.7,>=0.5.7->langchain_community) (0.9.0)\n",
      "Requirement already satisfied: jsonpatch<2.0,>=1.33 in ./.venv/lib/python3.11/site-packages (from langchain-core<0.2.0,>=0.1.52->langchain_community) (1.33)\n",
      "Requirement already satisfied: packaging<24.0,>=23.2 in ./.venv/lib/python3.11/site-packages (from langchain-core<0.2.0,>=0.1.52->langchain_community) (23.2)\n",
      "Requirement already satisfied: pydantic<3,>=1 in ./.venv/lib/python3.11/site-packages (from langchain-core<0.2.0,>=0.1.52->langchain_community) (2.7.1)\n",
      "Requirement already satisfied: orjson<4.0.0,>=3.9.14 in ./.venv/lib/python3.11/site-packages (from langsmith<0.2.0,>=0.1.0->langchain_community) (3.10.3)\n",
      "Requirement already satisfied: charset-normalizer<4,>=2 in ./.venv/lib/python3.11/site-packages (from requests<3,>=2->langchain_community) (3.3.2)\n",
      "Requirement already satisfied: idna<4,>=2.5 in ./.venv/lib/python3.11/site-packages (from requests<3,>=2->langchain_community) (3.7)\n",
      "Requirement already satisfied: urllib3<3,>=1.21.1 in ./.venv/lib/python3.11/site-packages (from requests<3,>=2->langchain_community) (2.2.1)\n",
      "Requirement already satisfied: certifi>=2017.4.17 in ./.venv/lib/python3.11/site-packages (from requests<3,>=2->langchain_community) (2024.2.2)\n",
      "Requirement already satisfied: typing-extensions>=4.6.0 in ./.venv/lib/python3.11/site-packages (from SQLAlchemy<3,>=1.4->langchain_community) (4.11.0)\n",
      "Requirement already satisfied: greenlet!=0.4.17 in ./.venv/lib/python3.11/site-packages (from SQLAlchemy<3,>=1.4->langchain_community) (3.0.3)\n",
      "Requirement already satisfied: jsonpointer>=1.9 in ./.venv/lib/python3.11/site-packages (from jsonpatch<2.0,>=1.33->langchain-core<0.2.0,>=0.1.52->langchain_community) (2.4)\n",
      "Requirement already satisfied: annotated-types>=0.4.0 in ./.venv/lib/python3.11/site-packages (from pydantic<3,>=1->langchain-core<0.2.0,>=0.1.52->langchain_community) (0.6.0)\n",
      "Requirement already satisfied: pydantic-core==2.18.2 in ./.venv/lib/python3.11/site-packages (from pydantic<3,>=1->langchain-core<0.2.0,>=0.1.52->langchain_community) (2.18.2)\n",
      "Requirement already satisfied: mypy-extensions>=0.3.0 in ./.venv/lib/python3.11/site-packages (from typing-inspect<1,>=0.4.0->dataclasses-json<0.7,>=0.5.7->langchain_community) (1.0.0)\n",
      "Note: you may need to restart the kernel to use updated packages.\n"
     ]
    }
   ],
   "source": [
    "%pip install langchain_community"
   ]
  },
  {
   "cell_type": "code",
   "execution_count": 77,
   "metadata": {},
   "outputs": [],
   "source": [
    "from langchain_community.embeddings import HuggingFaceEmbeddings\n",
    "embeddings = HuggingFaceEmbeddings(model_name=\"all-MiniLM-L6-v2\")\n",
    "doc_result = embeddings.embed_documents(texts2)"
   ]
  },
  {
   "cell_type": "code",
   "execution_count": 78,
   "metadata": {},
   "outputs": [],
   "source": [
    "vectors = []\n",
    "\n",
    "for i in range(len(doc_result)):\n",
    "    vectors.append(\n",
    "        {\n",
    "            \"id\": f\"vec{i+1}\", \n",
    "            \"values\": doc_result[i], \n",
    "            \"metadata\": {'text': texts2[i]}\n",
    "        }\n",
    "    )\n"
   ]
  },
  {
   "cell_type": "code",
   "execution_count": 79,
   "metadata": {},
   "outputs": [
    {
     "name": "stderr",
     "output_type": "stream",
     "text": [
      "huggingface/tokenizers: The current process just got forked, after parallelism has already been used. Disabling parallelism to avoid deadlocks...\n",
      "To disable this warning, you can either:\n",
      "\t- Avoid using `tokenizers` before the fork if possible\n",
      "\t- Explicitly set the environment variable TOKENIZERS_PARALLELISM=(true | false)\n"
     ]
    },
    {
     "name": "stdout",
     "output_type": "stream",
     "text": [
      "Requirement already satisfied: pinecone_client in ./.venv/lib/python3.11/site-packages (4.0.0)\n",
      "Requirement already satisfied: certifi>=2019.11.17 in ./.venv/lib/python3.11/site-packages (from pinecone_client) (2024.2.2)\n",
      "Requirement already satisfied: tqdm>=4.64.1 in ./.venv/lib/python3.11/site-packages (from pinecone_client) (4.66.4)\n",
      "Requirement already satisfied: typing-extensions>=3.7.4 in ./.venv/lib/python3.11/site-packages (from pinecone_client) (4.11.0)\n",
      "Requirement already satisfied: urllib3>=1.26.0 in ./.venv/lib/python3.11/site-packages (from pinecone_client) (2.2.1)\n",
      "Note: you may need to restart the kernel to use updated packages.\n"
     ]
    }
   ],
   "source": [
    "%pip install pinecone_client"
   ]
  },
  {
   "cell_type": "code",
   "execution_count": 80,
   "metadata": {},
   "outputs": [],
   "source": [
    "from pinecone import Pinecone, ServerlessSpec\n",
    "\n",
    "pc = Pinecone(api_key=\"d1eccc8c-3147-4d5e-992e-81b0c5d73278\")\n",
    "pc.create_index(\n",
    "    name=\"quickstart\",\n",
    "    dimension=384, \n",
    "    metric=\"euclidean\",\n",
    "    spec=ServerlessSpec(\n",
    "        cloud=\"aws\",\n",
    "        region=\"us-east-1\"\n",
    "    ) \n",
    ")"
   ]
  },
  {
   "cell_type": "code",
   "execution_count": 81,
   "metadata": {},
   "outputs": [
    {
     "data": {
      "text/plain": [
       "{'upserted_count': 371}"
      ]
     },
     "execution_count": 81,
     "metadata": {},
     "output_type": "execute_result"
    }
   ],
   "source": [
    "index = pc.Index(\"quickstart\")\n",
    "index.upsert(\n",
    "    vectors=vectors,\n",
    "    namespace= \"ns1\"\n",
    "\n",
    ")"
   ]
  },
  {
   "cell_type": "code",
   "execution_count": 82,
   "metadata": {},
   "outputs": [
    {
     "data": {
      "text/plain": [
       "SentenceTransformer(\n",
       "  (0): Transformer({'max_seq_length': 256, 'do_lower_case': False}) with Transformer model: BertModel \n",
       "  (1): Pooling({'word_embedding_dimension': 384, 'pooling_mode_cls_token': False, 'pooling_mode_mean_tokens': True, 'pooling_mode_max_tokens': False, 'pooling_mode_mean_sqrt_len_tokens': False, 'pooling_mode_weightedmean_tokens': False, 'pooling_mode_lasttoken': False, 'include_prompt': True})\n",
       "  (2): Normalize()\n",
       ")"
      ]
     },
     "execution_count": 82,
     "metadata": {},
     "output_type": "execute_result"
    }
   ],
   "source": [
    "from sentence_transformers import SentenceTransformer\n",
    "import torch\n",
    "\n",
    "device = 'cuda' if torch.cuda.is_available() else 'cpu'\n",
    "model = SentenceTransformer('sentence-transformers/all-MiniLM-L6-v2', device=device)\n",
    "model"
   ]
  },
  {
   "cell_type": "code",
   "execution_count": 83,
   "metadata": {},
   "outputs": [],
   "source": [
    "query = \"\"\"what medicine should i eat or drink for Balaroga, Balakshaya, \n",
    "Agnimandya, Aruchi \"\"\""
   ]
  },
  {
   "cell_type": "code",
   "execution_count": 84,
   "metadata": {},
   "outputs": [
    {
     "name": "stdout",
     "output_type": "stream",
     "text": [
      " Dhatukshaya, \n",
      "Sutikaroga, Balaroga  10-30 drops  for \n",
      "internal use  Amadosh\n",
      "a Both 4.  Aravindasava  AFI 200 ml  Balaroga, Balakshaya, Jirnajvara, Daha  500 mg - 1 gm  with \n",
      "ghee, sugar, warm \n",
      "milk or water  NS Both Essential  Drugs  List - Ayurveda  \n",
      " \n",
      "(A) Asava Arista  \n",
      " \n",
      "Sr \n",
      "No Name of \n",
      "Medicine  Refe\n",
      "renc\n",
      "e Palitya  2-10 drops  for  nasal \n",
      "administration  NS Both  \n",
      "117.  Apamargkshara Urustambha, \n",
      "Pakshaghata,G ridhra si 250 mg  Long term \n",
      "use, Vrikka \n",
      "Roga, peri - \n",
      "concepti \n",
      "onal (Mukhroga)  AFI 10 gm  Mukhdaurgandhya, \n",
      "Mukh apaka, Dantaroga, \n",
      "Galaroga  1 - 2 pills  NS Both Mutraghata , Gulma  250-375 mg  \n",
      " NS Both  \n",
      "(M) Varti, Netrabindu, Anjana  \n",
      " \n",
      "Sr Vikara or \n",
      "Prakriti, \n",
      "Raktaj \n",
      "Roga, \n",
      "pregnancy\n",
      ", long  \n",
      "term use  Both NS Both  \n",
      "(S) Rasayoga  \n",
      " \n",
      "Sr \n",
      "No Name of Medicine  Refere\n",
      "nce \n",
      "Text  Dispen\n",
      "sing \n",
      "Pack\n"
     ]
    }
   ],
   "source": [
    "xq = model.encode(query).tolist()\n",
    "xc=index.query(\n",
    "    namespace=\"ns1\",\n",
    "    vector=xq,\n",
    "    top_k=10,\n",
    "    include_values=True,\n",
    "    include_metadata=True\n",
    ")\n",
    "relevant_chunk=\"\"\n",
    "for result in xc['matches']:\n",
    "    relevant_chunk+=\" \"+result['metadata']['text']\n",
    "print(relevant_chunk)"
   ]
  },
  {
   "cell_type": "code",
   "execution_count": 85,
   "metadata": {},
   "outputs": [
    {
     "name": "stdout",
     "output_type": "stream",
     "text": [
      "Based on the relevant chunk, here are the answers to the query:\n",
      "\n",
      "For Balaroga (Weakness):\n",
      "\n",
      "* 10-30 drops of the medicine for internal use (Amadosh)\n",
      "\n",
      "For Balakshaya (Wasting):\n",
      "\n",
      "* 10-30 drops of the medicine for internal use (Amadosh)\n",
      "\n",
      "For Agnimandya (Loss of Appetite):\n",
      "\n",
      "* 500 mg - 1 gm of the medicine with ghee, sugar, warm milk or water\n",
      "\n",
      "For Aruchi (Lack of Taste):\n",
      "\n",
      "* 500 mg - 1 gm of the medicine with ghee, sugar, warm milk or water\n"
     ]
    }
   ],
   "source": [
    "completion = client.chat.completions.create(\n",
    "    model=\"llama3-8b-8192\",\n",
    "    messages=[\n",
    "        {\n",
    "            \"role\": \"system\",\n",
    "            \"content\": f\"answer the query[] based on the relevant_chunk[]\"\n",
    "        },\n",
    "        {\n",
    "            \"role\": \"user\",\n",
    "            \"content\": f\"query[{query}] relevant_chunk[{relevant_chunk}]\"\n",
    "        }\n",
    "    ],\n",
    "    temperature=0.1,\n",
    "    max_tokens=8192,\n",
    "    top_p=1,\n",
    "    stream=True,\n",
    "    stop=None,\n",
    ")\n",
    "relevant_response=\"\"\n",
    "for chunk in completion:\n",
    "    relevant_response+=chunk.choices[0].delta.content or \"\"\n",
    "print(relevant_response)"
   ]
  },
  {
   "cell_type": "code",
   "execution_count": 86,
   "metadata": {},
   "outputs": [],
   "source": [
    "pc.delete_index('quickstart')"
   ]
  }
 ],
 "metadata": {
  "kernelspec": {
   "display_name": ".venv",
   "language": "python",
   "name": "python3"
  },
  "language_info": {
   "codemirror_mode": {
    "name": "ipython",
    "version": 3
   },
   "file_extension": ".py",
   "mimetype": "text/x-python",
   "name": "python",
   "nbconvert_exporter": "python",
   "pygments_lexer": "ipython3",
   "version": "3.11.2"
  }
 },
 "nbformat": 4,
 "nbformat_minor": 2
}
